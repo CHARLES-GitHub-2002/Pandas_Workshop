{
 "cells": [
  {
   "cell_type": "code",
   "execution_count": 1,
   "id": "704145e8-fb1a-49c1-a431-1150d48d2a13",
   "metadata": {},
   "outputs": [],
   "source": [
    "import numpy as np\n",
    "import pandas as pd\n",
    "import seaborn as sns \n",
    "import matplotlib.pyplot as plt\n"
   ]
  },
  {
   "cell_type": "code",
   "execution_count": 3,
   "id": "d4be8b69-8365-405d-8aa4-12ad04ccacdd",
   "metadata": {},
   "outputs": [],
   "source": [
    "df=pd.read_csv(r\"C:\\Users\\Charles\\Downloads\\processed_crash_data.csv\")"
   ]
  },
  {
   "cell_type": "code",
   "execution_count": 5,
   "id": "dee8fc25-b6fe-406f-a681-e3bff4038bbe",
   "metadata": {},
   "outputs": [
    {
     "data": {
      "text/html": [
       "<div>\n",
       "<style scoped>\n",
       "    .dataframe tbody tr th:only-of-type {\n",
       "        vertical-align: middle;\n",
       "    }\n",
       "\n",
       "    .dataframe tbody tr th {\n",
       "        vertical-align: top;\n",
       "    }\n",
       "\n",
       "    .dataframe thead th {\n",
       "        text-align: right;\n",
       "    }\n",
       "</style>\n",
       "<table border=\"1\" class=\"dataframe\">\n",
       "  <thead>\n",
       "    <tr style=\"text-align: right;\">\n",
       "      <th></th>\n",
       "      <th>n_crash_reports</th>\n",
       "      <th>contains_fatality_words</th>\n",
       "      <th>contains_pedestrian_words</th>\n",
       "      <th>year</th>\n",
       "      <th>day_of_week</th>\n",
       "      <th>hour</th>\n",
       "      <th>day</th>\n",
       "      <th>weekday</th>\n",
       "      <th>month</th>\n",
       "      <th>is_weekend</th>\n",
       "      <th>day_part</th>\n",
       "      <th>distance_to_nairobi</th>\n",
       "      <th>contains_vehicle_words</th>\n",
       "      <th>severity_index</th>\n",
       "      <th>local_crash_density</th>\n",
       "      <th>season</th>\n",
       "      <th>fatality_mention_ratio</th>\n",
       "    </tr>\n",
       "  </thead>\n",
       "  <tbody>\n",
       "    <tr>\n",
       "      <th>0</th>\n",
       "      <td>1</td>\n",
       "      <td>0</td>\n",
       "      <td>0</td>\n",
       "      <td>2018.0</td>\n",
       "      <td>Wednesday</td>\n",
       "      <td>20.0</td>\n",
       "      <td>6.0</td>\n",
       "      <td>2.0</td>\n",
       "      <td>6.0</td>\n",
       "      <td>0</td>\n",
       "      <td>evening</td>\n",
       "      <td>7.165499</td>\n",
       "      <td>0</td>\n",
       "      <td>0</td>\n",
       "      <td>3303</td>\n",
       "      <td>dry</td>\n",
       "      <td>0.054249</td>\n",
       "    </tr>\n",
       "    <tr>\n",
       "      <th>1</th>\n",
       "      <td>1</td>\n",
       "      <td>1</td>\n",
       "      <td>0</td>\n",
       "      <td>NaN</td>\n",
       "      <td>NaN</td>\n",
       "      <td>NaN</td>\n",
       "      <td>NaN</td>\n",
       "      <td>NaN</td>\n",
       "      <td>NaN</td>\n",
       "      <td>0</td>\n",
       "      <td>night</td>\n",
       "      <td>56.743166</td>\n",
       "      <td>0</td>\n",
       "      <td>1</td>\n",
       "      <td>1</td>\n",
       "      <td>transitional</td>\n",
       "      <td>0.062719</td>\n",
       "    </tr>\n",
       "    <tr>\n",
       "      <th>2</th>\n",
       "      <td>1</td>\n",
       "      <td>0</td>\n",
       "      <td>0</td>\n",
       "      <td>NaN</td>\n",
       "      <td>NaN</td>\n",
       "      <td>NaN</td>\n",
       "      <td>NaN</td>\n",
       "      <td>NaN</td>\n",
       "      <td>NaN</td>\n",
       "      <td>0</td>\n",
       "      <td>night</td>\n",
       "      <td>27.398293</td>\n",
       "      <td>0</td>\n",
       "      <td>0</td>\n",
       "      <td>481</td>\n",
       "      <td>transitional</td>\n",
       "      <td>0.062719</td>\n",
       "    </tr>\n",
       "    <tr>\n",
       "      <th>3</th>\n",
       "      <td>1</td>\n",
       "      <td>0</td>\n",
       "      <td>0</td>\n",
       "      <td>NaN</td>\n",
       "      <td>NaN</td>\n",
       "      <td>NaN</td>\n",
       "      <td>NaN</td>\n",
       "      <td>NaN</td>\n",
       "      <td>NaN</td>\n",
       "      <td>0</td>\n",
       "      <td>night</td>\n",
       "      <td>60.469275</td>\n",
       "      <td>0</td>\n",
       "      <td>0</td>\n",
       "      <td>5</td>\n",
       "      <td>transitional</td>\n",
       "      <td>0.062719</td>\n",
       "    </tr>\n",
       "    <tr>\n",
       "      <th>4</th>\n",
       "      <td>1</td>\n",
       "      <td>1</td>\n",
       "      <td>0</td>\n",
       "      <td>NaN</td>\n",
       "      <td>NaN</td>\n",
       "      <td>NaN</td>\n",
       "      <td>NaN</td>\n",
       "      <td>NaN</td>\n",
       "      <td>NaN</td>\n",
       "      <td>0</td>\n",
       "      <td>night</td>\n",
       "      <td>4.287275</td>\n",
       "      <td>0</td>\n",
       "      <td>1</td>\n",
       "      <td>7019</td>\n",
       "      <td>transitional</td>\n",
       "      <td>0.062719</td>\n",
       "    </tr>\n",
       "  </tbody>\n",
       "</table>\n",
       "</div>"
      ],
      "text/plain": [
       "   n_crash_reports  contains_fatality_words  contains_pedestrian_words  \\\n",
       "0                1                        0                          0   \n",
       "1                1                        1                          0   \n",
       "2                1                        0                          0   \n",
       "3                1                        0                          0   \n",
       "4                1                        1                          0   \n",
       "\n",
       "     year day_of_week  hour  day  weekday  month  is_weekend day_part  \\\n",
       "0  2018.0   Wednesday  20.0  6.0      2.0    6.0           0  evening   \n",
       "1     NaN         NaN   NaN  NaN      NaN    NaN           0    night   \n",
       "2     NaN         NaN   NaN  NaN      NaN    NaN           0    night   \n",
       "3     NaN         NaN   NaN  NaN      NaN    NaN           0    night   \n",
       "4     NaN         NaN   NaN  NaN      NaN    NaN           0    night   \n",
       "\n",
       "   distance_to_nairobi  contains_vehicle_words  severity_index  \\\n",
       "0             7.165499                       0               0   \n",
       "1            56.743166                       0               1   \n",
       "2            27.398293                       0               0   \n",
       "3            60.469275                       0               0   \n",
       "4             4.287275                       0               1   \n",
       "\n",
       "   local_crash_density        season  fatality_mention_ratio  \n",
       "0                 3303           dry                0.054249  \n",
       "1                    1  transitional                0.062719  \n",
       "2                  481  transitional                0.062719  \n",
       "3                    5  transitional                0.062719  \n",
       "4                 7019  transitional                0.062719  "
      ]
     },
     "execution_count": 5,
     "metadata": {},
     "output_type": "execute_result"
    }
   ],
   "source": [
    "df.head()"
   ]
  },
  {
   "cell_type": "code",
   "execution_count": 9,
   "id": "9fdc1747-e95a-4ea1-a06a-5909c1e8e9f8",
   "metadata": {},
   "outputs": [
    {
     "data": {
      "text/plain": [
       "(25252, 17)"
      ]
     },
     "execution_count": 9,
     "metadata": {},
     "output_type": "execute_result"
    }
   ],
   "source": [
    "df.shape"
   ]
  },
  {
   "cell_type": "code",
   "execution_count": 11,
   "id": "68d117da-0275-4d29-9ffd-12f8ece3cd82",
   "metadata": {},
   "outputs": [
    {
     "data": {
      "text/plain": [
       "Index(['n_crash_reports', 'contains_fatality_words',\n",
       "       'contains_pedestrian_words', 'year', 'day_of_week', 'hour', 'day',\n",
       "       'weekday', 'month', 'is_weekend', 'day_part', 'distance_to_nairobi',\n",
       "       'contains_vehicle_words', 'severity_index', 'local_crash_density',\n",
       "       'season', 'fatality_mention_ratio'],\n",
       "      dtype='object')"
      ]
     },
     "execution_count": 11,
     "metadata": {},
     "output_type": "execute_result"
    }
   ],
   "source": [
    "df.columns"
   ]
  },
  {
   "cell_type": "code",
   "execution_count": 13,
   "id": "28f628a7-c219-4f55-9ad7-367db406d707",
   "metadata": {},
   "outputs": [
    {
     "data": {
      "text/plain": [
       "n_crash_reports                  0\n",
       "contains_fatality_words          0\n",
       "contains_pedestrian_words        0\n",
       "year                         14993\n",
       "day_of_week                  14993\n",
       "hour                         14993\n",
       "day                          14993\n",
       "weekday                      14993\n",
       "month                        14993\n",
       "is_weekend                       0\n",
       "day_part                         0\n",
       "distance_to_nairobi              0\n",
       "contains_vehicle_words           0\n",
       "severity_index                   0\n",
       "local_crash_density              0\n",
       "season                           0\n",
       "fatality_mention_ratio           0\n",
       "dtype: int64"
      ]
     },
     "execution_count": 13,
     "metadata": {},
     "output_type": "execute_result"
    }
   ],
   "source": [
    "df.isnull().sum()"
   ]
  },
  {
   "cell_type": "code",
   "execution_count": 17,
   "id": "7d785710-e541-4c11-a66a-7871935445da",
   "metadata": {},
   "outputs": [
    {
     "data": {
      "text/plain": [
       "n_crash_reports               0.000000\n",
       "contains_fatality_words       0.000000\n",
       "contains_pedestrian_words     0.000000\n",
       "year                         59.373515\n",
       "day_of_week                  59.373515\n",
       "hour                         59.373515\n",
       "day                          59.373515\n",
       "weekday                      59.373515\n",
       "month                        59.373515\n",
       "is_weekend                    0.000000\n",
       "day_part                      0.000000\n",
       "distance_to_nairobi           0.000000\n",
       "contains_vehicle_words        0.000000\n",
       "severity_index                0.000000\n",
       "local_crash_density           0.000000\n",
       "season                        0.000000\n",
       "fatality_mention_ratio        0.000000\n",
       "dtype: float64"
      ]
     },
     "execution_count": 17,
     "metadata": {},
     "output_type": "execute_result"
    }
   ],
   "source": [
    "df.isnull().sum()/25252*100"
   ]
  },
  {
   "cell_type": "code",
   "execution_count": 29,
   "id": "20d2ea12-9ea4-4bef-83a6-dc2795fb1e29",
   "metadata": {},
   "outputs": [],
   "source": [
    "df.drop(['year', 'day_of_week', 'hour', 'day', 'weekday', 'month'],inplace=True, axis=1)\n"
   ]
  },
  {
   "cell_type": "code",
   "execution_count": 31,
   "id": "ef56a063-7210-486c-8216-46dee3944909",
   "metadata": {},
   "outputs": [
    {
     "data": {
      "text/plain": [
       "Index(['n_crash_reports', 'contains_fatality_words',\n",
       "       'contains_pedestrian_words', 'is_weekend', 'day_part',\n",
       "       'distance_to_nairobi', 'contains_vehicle_words', 'severity_index',\n",
       "       'local_crash_density', 'season', 'fatality_mention_ratio'],\n",
       "      dtype='object')"
      ]
     },
     "execution_count": 31,
     "metadata": {},
     "output_type": "execute_result"
    }
   ],
   "source": [
    "df.columns"
   ]
  },
  {
   "cell_type": "code",
   "execution_count": 33,
   "id": "91877dfa-e045-4530-8dd2-33086af440b4",
   "metadata": {},
   "outputs": [
    {
     "name": "stdout",
     "output_type": "stream",
     "text": [
      "<class 'pandas.core.frame.DataFrame'>\n",
      "RangeIndex: 25252 entries, 0 to 25251\n",
      "Data columns (total 11 columns):\n",
      " #   Column                     Non-Null Count  Dtype  \n",
      "---  ------                     --------------  -----  \n",
      " 0   n_crash_reports            25252 non-null  int64  \n",
      " 1   contains_fatality_words    25252 non-null  int64  \n",
      " 2   contains_pedestrian_words  25252 non-null  int64  \n",
      " 3   is_weekend                 25252 non-null  int64  \n",
      " 4   day_part                   25252 non-null  object \n",
      " 5   distance_to_nairobi        25252 non-null  float64\n",
      " 6   contains_vehicle_words     25252 non-null  int64  \n",
      " 7   severity_index             25252 non-null  int64  \n",
      " 8   local_crash_density        25252 non-null  int64  \n",
      " 9   season                     25252 non-null  object \n",
      " 10  fatality_mention_ratio     25252 non-null  float64\n",
      "dtypes: float64(2), int64(7), object(2)\n",
      "memory usage: 2.1+ MB\n"
     ]
    }
   ],
   "source": [
    "df.info()"
   ]
  },
  {
   "cell_type": "code",
   "execution_count": 35,
   "id": "1217531d-d666-445c-bcf3-04d472612fad",
   "metadata": {},
   "outputs": [
    {
     "data": {
      "text/html": [
       "<div>\n",
       "<style scoped>\n",
       "    .dataframe tbody tr th:only-of-type {\n",
       "        vertical-align: middle;\n",
       "    }\n",
       "\n",
       "    .dataframe tbody tr th {\n",
       "        vertical-align: top;\n",
       "    }\n",
       "\n",
       "    .dataframe thead th {\n",
       "        text-align: right;\n",
       "    }\n",
       "</style>\n",
       "<table border=\"1\" class=\"dataframe\">\n",
       "  <thead>\n",
       "    <tr style=\"text-align: right;\">\n",
       "      <th></th>\n",
       "      <th>n_crash_reports</th>\n",
       "      <th>contains_fatality_words</th>\n",
       "      <th>contains_pedestrian_words</th>\n",
       "      <th>is_weekend</th>\n",
       "      <th>day_part</th>\n",
       "      <th>distance_to_nairobi</th>\n",
       "      <th>contains_vehicle_words</th>\n",
       "      <th>severity_index</th>\n",
       "      <th>local_crash_density</th>\n",
       "      <th>season</th>\n",
       "      <th>fatality_mention_ratio</th>\n",
       "    </tr>\n",
       "  </thead>\n",
       "  <tbody>\n",
       "    <tr>\n",
       "      <th>0</th>\n",
       "      <td>1</td>\n",
       "      <td>0</td>\n",
       "      <td>0</td>\n",
       "      <td>0</td>\n",
       "      <td>evening</td>\n",
       "      <td>7.165499</td>\n",
       "      <td>0</td>\n",
       "      <td>0</td>\n",
       "      <td>3303</td>\n",
       "      <td>dry</td>\n",
       "      <td>0.054249</td>\n",
       "    </tr>\n",
       "    <tr>\n",
       "      <th>1</th>\n",
       "      <td>1</td>\n",
       "      <td>1</td>\n",
       "      <td>0</td>\n",
       "      <td>0</td>\n",
       "      <td>night</td>\n",
       "      <td>56.743166</td>\n",
       "      <td>0</td>\n",
       "      <td>1</td>\n",
       "      <td>1</td>\n",
       "      <td>transitional</td>\n",
       "      <td>0.062719</td>\n",
       "    </tr>\n",
       "    <tr>\n",
       "      <th>2</th>\n",
       "      <td>1</td>\n",
       "      <td>0</td>\n",
       "      <td>0</td>\n",
       "      <td>0</td>\n",
       "      <td>night</td>\n",
       "      <td>27.398293</td>\n",
       "      <td>0</td>\n",
       "      <td>0</td>\n",
       "      <td>481</td>\n",
       "      <td>transitional</td>\n",
       "      <td>0.062719</td>\n",
       "    </tr>\n",
       "    <tr>\n",
       "      <th>3</th>\n",
       "      <td>1</td>\n",
       "      <td>0</td>\n",
       "      <td>0</td>\n",
       "      <td>0</td>\n",
       "      <td>night</td>\n",
       "      <td>60.469275</td>\n",
       "      <td>0</td>\n",
       "      <td>0</td>\n",
       "      <td>5</td>\n",
       "      <td>transitional</td>\n",
       "      <td>0.062719</td>\n",
       "    </tr>\n",
       "    <tr>\n",
       "      <th>4</th>\n",
       "      <td>1</td>\n",
       "      <td>1</td>\n",
       "      <td>0</td>\n",
       "      <td>0</td>\n",
       "      <td>night</td>\n",
       "      <td>4.287275</td>\n",
       "      <td>0</td>\n",
       "      <td>1</td>\n",
       "      <td>7019</td>\n",
       "      <td>transitional</td>\n",
       "      <td>0.062719</td>\n",
       "    </tr>\n",
       "  </tbody>\n",
       "</table>\n",
       "</div>"
      ],
      "text/plain": [
       "   n_crash_reports  contains_fatality_words  contains_pedestrian_words  \\\n",
       "0                1                        0                          0   \n",
       "1                1                        1                          0   \n",
       "2                1                        0                          0   \n",
       "3                1                        0                          0   \n",
       "4                1                        1                          0   \n",
       "\n",
       "   is_weekend day_part  distance_to_nairobi  contains_vehicle_words  \\\n",
       "0           0  evening             7.165499                       0   \n",
       "1           0    night            56.743166                       0   \n",
       "2           0    night            27.398293                       0   \n",
       "3           0    night            60.469275                       0   \n",
       "4           0    night             4.287275                       0   \n",
       "\n",
       "   severity_index  local_crash_density        season  fatality_mention_ratio  \n",
       "0               0                 3303           dry                0.054249  \n",
       "1               1                    1  transitional                0.062719  \n",
       "2               0                  481  transitional                0.062719  \n",
       "3               0                    5  transitional                0.062719  \n",
       "4               1                 7019  transitional                0.062719  "
      ]
     },
     "execution_count": 35,
     "metadata": {},
     "output_type": "execute_result"
    }
   ],
   "source": [
    "df.head()"
   ]
  },
  {
   "cell_type": "code",
   "execution_count": 45,
   "id": "2f4154ca-9dc5-4a98-b01f-3a84985f7a8e",
   "metadata": {},
   "outputs": [
    {
     "data": {
      "text/plain": [
       "array(['dry', 'transitional', 'rainy'], dtype=object)"
      ]
     },
     "execution_count": 45,
     "metadata": {},
     "output_type": "execute_result"
    }
   ],
   "source": [
    "df['season'].unique()"
   ]
  },
  {
   "cell_type": "markdown",
   "id": "01659292-4112-44bd-bcd1-a1ed1ec6bab4",
   "metadata": {},
   "source": [
    "# Exploratory Questions in Python (Pandas)\n",
    "### General Crash Trends"
   ]
  },
  {
   "cell_type": "markdown",
   "id": "7e02be9f-48f6-4ff0-bac5-f7ab3730b2c7",
   "metadata": {},
   "source": [
    "### 1.What is the total number of crash reports recorded?"
   ]
  },
  {
   "cell_type": "code",
   "execution_count": 52,
   "id": "0a584dd5-c4bb-481f-bdc0-41362703d987",
   "metadata": {},
   "outputs": [
    {
     "data": {
      "text/plain": [
       "25252"
      ]
     },
     "execution_count": 52,
     "metadata": {},
     "output_type": "execute_result"
    }
   ],
   "source": [
    "df['n_crash_reports'].sum()"
   ]
  },
  {
   "cell_type": "markdown",
   "id": "9ab8f1c0-4ce0-44a8-9060-646c43da4e96",
   "metadata": {},
   "source": [
    "### 2.How does the number of crash reports vary by season?"
   ]
  },
  {
   "cell_type": "code",
   "execution_count": 82,
   "id": "9e6346c9-756a-46d3-b873-c07812427c9f",
   "metadata": {},
   "outputs": [
    {
     "data": {
      "text/plain": [
       "season\n",
       "transitional    20138\n",
       "dry              2572\n",
       "rainy            2542\n",
       "Name: count, dtype: int64"
      ]
     },
     "execution_count": 82,
     "metadata": {},
     "output_type": "execute_result"
    }
   ],
   "source": [
    "df['season'].value_counts()"
   ]
  },
  {
   "cell_type": "markdown",
   "id": "a9524854-c7d5-468e-87bc-4dfa52e0c5e6",
   "metadata": {},
   "source": [
    "### 3.How many crashes occurred on weekends compared to weekdays"
   ]
  },
  {
   "cell_type": "code",
   "execution_count": 87,
   "id": "e0409b66-d2b6-4e79-839e-42ff53b0c7d0",
   "metadata": {},
   "outputs": [
    {
     "data": {
      "text/plain": [
       "is_weekend\n",
       "0    22313\n",
       "1     2939\n",
       "Name: count, dtype: int64"
      ]
     },
     "execution_count": 87,
     "metadata": {},
     "output_type": "execute_result"
    }
   ],
   "source": [
    "df['is_weekend'].value_counts()"
   ]
  },
  {
   "cell_type": "markdown",
   "id": "b9cb3f2d-698b-4cc2-960d-ac4e7aab7b36",
   "metadata": {},
   "source": [
    "### 4.Which day part experiences the most crash reports?"
   ]
  },
  {
   "cell_type": "code",
   "execution_count": 96,
   "id": "8d7a10fb-ee79-4766-9e62-dd9844a944f6",
   "metadata": {},
   "outputs": [
    {
     "data": {
      "text/plain": [
       "day_part\n",
       "night        16295\n",
       "morning       4018\n",
       "evening       2636\n",
       "afternoon     2303\n",
       "Name: count, dtype: int64"
      ]
     },
     "execution_count": 96,
     "metadata": {},
     "output_type": "execute_result"
    }
   ],
   "source": [
    "df['day_part'].value_counts()"
   ]
  },
  {
   "cell_type": "markdown",
   "id": "c87053b7-f89c-4661-8e4e-22e5b3d84849",
   "metadata": {},
   "source": [
    "### 5.What is the average crash severity index overall?"
   ]
  },
  {
   "cell_type": "code",
   "execution_count": 108,
   "id": "6dec4219-bad9-448f-98a7-1769d2d2b101",
   "metadata": {},
   "outputs": [
    {
     "data": {
      "text/plain": [
       "0.06051005860921907"
      ]
     },
     "execution_count": 108,
     "metadata": {},
     "output_type": "execute_result"
    }
   ],
   "source": [
    "df['severity_index'].mean()"
   ]
  },
  {
   "cell_type": "markdown",
   "id": "d469b0aa-2e17-4730-a0f1-a70cefebdd55",
   "metadata": {},
   "source": [
    "6.What is the average crash severity on weekends vs weekdays?\n",
    "7.Which day part has the highest average severity index?\n",
    "8.Are crashes involving pedestrians more severe than others?\n",
    "9.How many crashes mention fatalities?\n",
    "10.Do reports containing 'vehicle words' have higher severity?\n",
    "11.What is the average fatality_mention_ratio for each season?\n",
    "12.Does crash severity increase with distance from Nairobi?\n",
    "13.Which regions have the highest local crash density?"
   ]
  },
  {
   "cell_type": "markdown",
   "id": "a88b1b34-3103-49c4-811d-aac53914ff62",
   "metadata": {},
   "source": [
    "### 6.What is the average crash severity on weekends vs weekdays?"
   ]
  },
  {
   "cell_type": "code",
   "execution_count": 121,
   "id": "04e976a3-25a8-4eff-971e-ed69ea7fa098",
   "metadata": {},
   "outputs": [
    {
     "data": {
      "text/plain": [
       "is_weekend\n",
       "1    0.063627\n",
       "0    0.060099\n",
       "Name: severity_index, dtype: float64"
      ]
     },
     "execution_count": 121,
     "metadata": {},
     "output_type": "execute_result"
    }
   ],
   "source": [
    "df.groupby('is_weekend')['severity_index'].mean().sort_values(ascending=False)"
   ]
  },
  {
   "cell_type": "markdown",
   "id": "8c6ec943-50e5-4a10-b35a-73805230e555",
   "metadata": {},
   "source": [
    "### 7.Which day part has the highest average severity index?"
   ]
  },
  {
   "cell_type": "code",
   "execution_count": 124,
   "id": "54e12757-9949-452a-9d80-a04a3b12a8bd",
   "metadata": {},
   "outputs": [
    {
     "data": {
      "text/plain": [
       "day_part\n",
       "night        0.062719\n",
       "morning      0.057740\n",
       "afternoon    0.056882\n",
       "evening      0.054249\n",
       "Name: severity_index, dtype: float64"
      ]
     },
     "execution_count": 124,
     "metadata": {},
     "output_type": "execute_result"
    }
   ],
   "source": [
    "df.groupby('day_part')['severity_index'].mean().sort_values(ascending=False)\n"
   ]
  },
  {
   "cell_type": "markdown",
   "id": "2f0d1011-96e8-496c-aec3-471072438c1f",
   "metadata": {},
   "source": [
    "### 8.Are crashes involving pedestrians more severe than others?"
   ]
  },
  {
   "cell_type": "code",
   "execution_count": 134,
   "id": "7ad8dbe0-9187-4221-bf8a-06f4c6de8404",
   "metadata": {},
   "outputs": [
    {
     "data": {
      "text/plain": [
       "contains_pedestrian_words\n",
       "0    0.06051\n",
       "Name: severity_index, dtype: float64"
      ]
     },
     "execution_count": 134,
     "metadata": {},
     "output_type": "execute_result"
    }
   ],
   "source": [
    "df.groupby('contains_pedestrian_words')['severity_index'].mean()"
   ]
  },
  {
   "cell_type": "code",
   "execution_count": 128,
   "id": "5d8b8f7b-912b-471c-82de-efd250fc7f8d",
   "metadata": {},
   "outputs": [
    {
     "data": {
      "text/plain": [
       "Index(['n_crash_reports', 'contains_fatality_words',\n",
       "       'contains_pedestrian_words', 'is_weekend', 'day_part',\n",
       "       'distance_to_nairobi', 'contains_vehicle_words', 'severity_index',\n",
       "       'local_crash_density', 'season', 'fatality_mention_ratio'],\n",
       "      dtype='object')"
      ]
     },
     "execution_count": 128,
     "metadata": {},
     "output_type": "execute_result"
    }
   ],
   "source": [
    "df.columns"
   ]
  },
  {
   "cell_type": "markdown",
   "id": "b50d7b89-89bc-4561-9aec-e0ead223a5c5",
   "metadata": {},
   "source": [
    "### 9.How many crashes mention fatalities?\n"
   ]
  },
  {
   "cell_type": "code",
   "execution_count": 145,
   "id": "f75d2cb7-6b0c-4052-b465-e25c4e54ac92",
   "metadata": {},
   "outputs": [
    {
     "data": {
      "text/plain": [
       "1528"
      ]
     },
     "execution_count": 145,
     "metadata": {},
     "output_type": "execute_result"
    }
   ],
   "source": [
    "df['contains_fatality_words'].sum()"
   ]
  },
  {
   "cell_type": "markdown",
   "id": "34a91744-5366-43cc-9d21-0a25a02d37c9",
   "metadata": {},
   "source": [
    "### 10.Do reports containing 'vehicle words' have higher severity?\n"
   ]
  },
  {
   "cell_type": "code",
   "execution_count": 150,
   "id": "c3fab79c-5788-4768-bb92-aae6a1f60dc6",
   "metadata": {},
   "outputs": [
    {
     "data": {
      "text/plain": [
       "contains_vehicle_words\n",
       "0    0.06051\n",
       "Name: severity_index, dtype: float64"
      ]
     },
     "execution_count": 150,
     "metadata": {},
     "output_type": "execute_result"
    }
   ],
   "source": [
    "df.groupby('contains_vehicle_words')['severity_index'].mean()"
   ]
  },
  {
   "cell_type": "markdown",
   "id": "cc913253-f208-4b7d-93ea-2bdd3ec0caf3",
   "metadata": {},
   "source": [
    "### 11.What is the average fatality_mention_ratio for each season?\n"
   ]
  },
  {
   "cell_type": "code",
   "execution_count": 155,
   "id": "5ceac6e6-02dd-4e7d-8143-1943325ec3c2",
   "metadata": {},
   "outputs": [
    {
     "data": {
      "text/plain": [
       "season\n",
       "dry             0.057239\n",
       "rainy           0.057398\n",
       "transitional    0.061321\n",
       "Name: fatality_mention_ratio, dtype: float64"
      ]
     },
     "execution_count": 155,
     "metadata": {},
     "output_type": "execute_result"
    }
   ],
   "source": [
    "df.groupby('season')['fatality_mention_ratio'].mean()"
   ]
  },
  {
   "cell_type": "markdown",
   "id": "4ab187d3-9233-4849-af20-d56b9ea5b500",
   "metadata": {},
   "source": [
    "### 12.Does crash severity increase with distance from Nairobi?\n"
   ]
  },
  {
   "cell_type": "code",
   "execution_count": 158,
   "id": "d11221d4-2033-4747-9c91-b79512ca6043",
   "metadata": {},
   "outputs": [
    {
     "data": {
      "text/html": [
       "<div>\n",
       "<style scoped>\n",
       "    .dataframe tbody tr th:only-of-type {\n",
       "        vertical-align: middle;\n",
       "    }\n",
       "\n",
       "    .dataframe tbody tr th {\n",
       "        vertical-align: top;\n",
       "    }\n",
       "\n",
       "    .dataframe thead th {\n",
       "        text-align: right;\n",
       "    }\n",
       "</style>\n",
       "<table border=\"1\" class=\"dataframe\">\n",
       "  <thead>\n",
       "    <tr style=\"text-align: right;\">\n",
       "      <th></th>\n",
       "      <th>distance_to_nairobi</th>\n",
       "      <th>severity_index</th>\n",
       "    </tr>\n",
       "  </thead>\n",
       "  <tbody>\n",
       "    <tr>\n",
       "      <th>distance_to_nairobi</th>\n",
       "      <td>1.000000</td>\n",
       "      <td>0.045264</td>\n",
       "    </tr>\n",
       "    <tr>\n",
       "      <th>severity_index</th>\n",
       "      <td>0.045264</td>\n",
       "      <td>1.000000</td>\n",
       "    </tr>\n",
       "  </tbody>\n",
       "</table>\n",
       "</div>"
      ],
      "text/plain": [
       "                     distance_to_nairobi  severity_index\n",
       "distance_to_nairobi             1.000000        0.045264\n",
       "severity_index                  0.045264        1.000000"
      ]
     },
     "execution_count": 158,
     "metadata": {},
     "output_type": "execute_result"
    }
   ],
   "source": [
    "df[[ 'distance_to_nairobi','severity_index']].corr()"
   ]
  },
  {
   "cell_type": "markdown",
   "id": "31afd824-b07f-4d51-8ddd-1ee3b5e250da",
   "metadata": {},
   "source": [
    "### 13.Which regions have the highest local crash density?\n",
    "\n"
   ]
  },
  {
   "cell_type": "code",
   "execution_count": 161,
   "id": "40794aa3-bf07-442a-889f-04f73f6b5c2e",
   "metadata": {},
   "outputs": [
    {
     "data": {
      "text/plain": [
       "count    25252.000000\n",
       "mean      3954.517108\n",
       "std       2942.071604\n",
       "min          0.000000\n",
       "25%       1035.000000\n",
       "50%       3401.500000\n",
       "75%       7053.000000\n",
       "max       8936.000000\n",
       "Name: local_crash_density, dtype: float64"
      ]
     },
     "execution_count": 161,
     "metadata": {},
     "output_type": "execute_result"
    }
   ],
   "source": [
    "df['local_crash_density'].describe()"
   ]
  },
  {
   "cell_type": "code",
   "execution_count": null,
   "id": "e68348f8-a7f9-468a-9779-c0d9c1e1f82e",
   "metadata": {},
   "outputs": [],
   "source": []
  }
 ],
 "metadata": {
  "kernelspec": {
   "display_name": "Python [conda env:base] *",
   "language": "python",
   "name": "conda-base-py"
  },
  "language_info": {
   "codemirror_mode": {
    "name": "ipython",
    "version": 3
   },
   "file_extension": ".py",
   "mimetype": "text/x-python",
   "name": "python",
   "nbconvert_exporter": "python",
   "pygments_lexer": "ipython3",
   "version": "3.12.7"
  }
 },
 "nbformat": 4,
 "nbformat_minor": 5
}
